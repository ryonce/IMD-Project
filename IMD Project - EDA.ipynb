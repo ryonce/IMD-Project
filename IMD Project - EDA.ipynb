{
 "cells": [
  {
   "cell_type": "markdown",
   "id": "d7012589",
   "metadata": {},
   "source": [
    "# EDA for IMD\n",
    "\n",
    "- Robert Yonce\n",
    "- 5/4/23"
   ]
  },
  {
   "cell_type": "code",
   "execution_count": 1,
   "id": "c62b121e",
   "metadata": {},
   "outputs": [],
   "source": [
    "# Standard Imports\n",
    "import numpy as np\n",
    "import pandas as pd\n",
    "import matplotlib.pyplot as plt\n",
    "import seaborn as sns"
   ]
  },
  {
   "cell_type": "markdown",
   "id": "39e7995e",
   "metadata": {},
   "source": [
    "## Load in CSVs and Combined"
   ]
  },
  {
   "cell_type": "code",
   "execution_count": 3,
   "id": "3b3ab118",
   "metadata": {},
   "outputs": [],
   "source": [
    "# Files\n",
    "\n",
    "results_01 = pd.read_csv('data/final_tmdb_data_2001.csv.gz')\n",
    "\n",
    "results_00 = pd.read_csv('data/final_tmdb_data_2000.csv.gz')"
   ]
  },
  {
   "cell_type": "code",
   "execution_count": 4,
   "id": "d199f01e",
   "metadata": {},
   "outputs": [],
   "source": [
    "# Combined DFs\n",
    "\n",
    "frames = [results_00, results_01]\n",
    "\n",
    "combined = pd.concat(frames)"
   ]
  },
  {
   "cell_type": "code",
   "execution_count": 5,
   "id": "facc5eea",
   "metadata": {
    "scrolled": true
   },
   "outputs": [
    {
     "name": "stdout",
     "output_type": "stream",
     "text": [
      "<class 'pandas.core.frame.DataFrame'>\n",
      "Int64Index: 2562 entries, 0 to 1327\n",
      "Data columns (total 26 columns):\n",
      " #   Column                 Non-Null Count  Dtype  \n",
      "---  ------                 --------------  -----  \n",
      " 0   imdb_id                2562 non-null   object \n",
      " 1   adult                  2560 non-null   float64\n",
      " 2   backdrop_path          1388 non-null   object \n",
      " 3   belongs_to_collection  206 non-null    object \n",
      " 4   budget                 2560 non-null   float64\n",
      " 5   genres                 2560 non-null   object \n",
      " 6   homepage               172 non-null    object \n",
      " 7   id                     2560 non-null   float64\n",
      " 8   original_language      2560 non-null   object \n",
      " 9   original_title         2560 non-null   object \n",
      " 10  overview               2509 non-null   object \n",
      " 11  popularity             2560 non-null   float64\n",
      " 12  poster_path            2303 non-null   object \n",
      " 13  production_companies   2560 non-null   object \n",
      " 14  production_countries   2560 non-null   object \n",
      " 15  release_date           2542 non-null   object \n",
      " 16  revenue                2560 non-null   float64\n",
      " 17  runtime                2560 non-null   float64\n",
      " 18  spoken_languages       2560 non-null   object \n",
      " 19  status                 2560 non-null   object \n",
      " 20  tagline                1098 non-null   object \n",
      " 21  title                  2560 non-null   object \n",
      " 22  video                  2560 non-null   float64\n",
      " 23  vote_average           2560 non-null   float64\n",
      " 24  vote_count             2560 non-null   float64\n",
      " 25  certification          815 non-null    object \n",
      "dtypes: float64(9), object(17)\n",
      "memory usage: 540.4+ KB\n"
     ]
    }
   ],
   "source": [
    "# Info on combined DF\n",
    "\n",
    "combined.info()"
   ]
  },
  {
   "cell_type": "code",
   "execution_count": 7,
   "id": "3bc99be5",
   "metadata": {},
   "outputs": [
    {
     "data": {
      "text/plain": [
       "1"
      ]
     },
     "execution_count": 7,
     "metadata": {},
     "output_type": "execute_result"
    }
   ],
   "source": [
    "# check for duplicate ID's \n",
    "\n",
    "combined.duplicated(subset='id').sum()\n"
   ]
  },
  {
   "cell_type": "code",
   "execution_count": 8,
   "id": "b447d71d",
   "metadata": {},
   "outputs": [
    {
     "data": {
      "text/plain": [
       "0"
      ]
     },
     "execution_count": 8,
     "metadata": {},
     "output_type": "execute_result"
    }
   ],
   "source": [
    "# Drop duplicate ids and confirm there are no more duplicates\n",
    "\n",
    "combined = combined.drop_duplicates(subset='id')\n",
    "combined.duplicated(subset='id').sum()"
   ]
  },
  {
   "cell_type": "markdown",
   "id": "8cf12b5f",
   "metadata": {},
   "source": [
    "## Making filters for Budget and Revenue"
   ]
  },
  {
   "cell_type": "code",
   "execution_count": 9,
   "id": "2bda55b0",
   "metadata": {},
   "outputs": [],
   "source": [
    "# Budget Filter\n",
    "\n",
    "bud = combined['budget'] > 0\n",
    "\n",
    "combined_bud = combined[bud]"
   ]
  },
  {
   "cell_type": "code",
   "execution_count": 10,
   "id": "fb72ebee",
   "metadata": {},
   "outputs": [],
   "source": [
    "# Revenue Filter\n",
    "\n",
    "rev = combined['revenue'] > 0\n",
    "\n",
    "combined_rev = combined[rev]"
   ]
  },
  {
   "cell_type": "markdown",
   "id": "cca66e1f",
   "metadata": {},
   "source": [
    "## Combine the two filters"
   ]
  },
  {
   "cell_type": "markdown",
   "id": "4aeab264",
   "metadata": {},
   "source": [
    "- How many movies had at least some valid financial information (values > 0 for budget OR revenue)?\n",
    "\n",
    "    - 991 below"
   ]
  },
  {
   "cell_type": "code",
   "execution_count": 11,
   "id": "646fbb16",
   "metadata": {},
   "outputs": [
    {
     "name": "stdout",
     "output_type": "stream",
     "text": [
      "<class 'pandas.core.frame.DataFrame'>\n",
      "Int64Index: 991 entries, 4 to 1306\n",
      "Data columns (total 26 columns):\n",
      " #   Column                 Non-Null Count  Dtype  \n",
      "---  ------                 --------------  -----  \n",
      " 0   imdb_id                991 non-null    object \n",
      " 1   adult                  991 non-null    float64\n",
      " 2   backdrop_path          887 non-null    object \n",
      " 3   belongs_to_collection  198 non-null    object \n",
      " 4   budget                 991 non-null    float64\n",
      " 5   genres                 991 non-null    object \n",
      " 6   homepage               127 non-null    object \n",
      " 7   id                     991 non-null    float64\n",
      " 8   original_language      991 non-null    object \n",
      " 9   original_title         991 non-null    object \n",
      " 10  overview               989 non-null    object \n",
      " 11  popularity             991 non-null    float64\n",
      " 12  poster_path            972 non-null    object \n",
      " 13  production_companies   991 non-null    object \n",
      " 14  production_countries   991 non-null    object \n",
      " 15  release_date           990 non-null    object \n",
      " 16  revenue                991 non-null    float64\n",
      " 17  runtime                991 non-null    float64\n",
      " 18  spoken_languages       991 non-null    object \n",
      " 19  status                 991 non-null    object \n",
      " 20  tagline                824 non-null    object \n",
      " 21  title                  991 non-null    object \n",
      " 22  video                  991 non-null    float64\n",
      " 23  vote_average           991 non-null    float64\n",
      " 24  vote_count             991 non-null    float64\n",
      " 25  certification          739 non-null    object \n",
      "dtypes: float64(9), object(17)\n",
      "memory usage: 209.0+ KB\n"
     ]
    }
   ],
   "source": [
    "# New filters combined\n",
    "\n",
    "frames2 = [combined_rev, combined_bud]\n",
    "\n",
    "new_combined = pd.concat(frames2)\n",
    "\n",
    "new_combined.info()"
   ]
  },
  {
   "cell_type": "markdown",
   "id": "33048aef",
   "metadata": {},
   "source": [
    "## Save DF to CSV"
   ]
  },
  {
   "cell_type": "code",
   "execution_count": 12,
   "id": "93a864a0",
   "metadata": {},
   "outputs": [],
   "source": [
    "new_combined.to_csv(\"tmdb_results_combined.csv.gz\", compression='gzip', index=False)"
   ]
  },
  {
   "cell_type": "markdown",
   "id": "215b0c97",
   "metadata": {},
   "source": [
    "## How many movies are there in each of the certification categories (G/PG/PG-13/R)?"
   ]
  },
  {
   "cell_type": "code",
   "execution_count": 13,
   "id": "eefc6f4e",
   "metadata": {},
   "outputs": [
    {
     "data": {
      "text/plain": [
       "R        374\n",
       "PG-13    248\n",
       "PG        66\n",
       "G         27\n",
       "NR        24\n",
       "Name: certification, dtype: int64"
      ]
     },
     "metadata": {},
     "output_type": "display_data"
    },
    {
     "data": {
      "image/png": "[encoded data removed]",
      "text/plain": [
       "<Figure size 1000x700 with 1 Axes>"
      ]
     },
     "metadata": {},
     "output_type": "display_data"
    }
   ],
   "source": [
    "# Set the figure size\n",
    "plt.figure(figsize=(10, 7))\n",
    "\n",
    "# plot a bar chart\n",
    "ax = sns.countplot(data = new_combined, x ='certification')\n",
    "ax.set(title = 'Movies based on Categories')\n",
    "ax.set(ylabel = 'Counts')\n",
    "ax.set(xlabel = 'Movie Categories');\n",
    "\n",
    "display(new_combined['certification'].value_counts());"
   ]
  },
  {
   "cell_type": "markdown",
   "id": "cd1d3bfb",
   "metadata": {},
   "source": [
    "## What is the average revenue per certification category?"
   ]
  },
  {
   "cell_type": "code",
   "execution_count": 14,
   "id": "5af4bb71",
   "metadata": {},
   "outputs": [
    {
     "data": {
      "text/html": [
       "<div>\n",
       "<style scoped>\n",
       "    .dataframe tbody tr th:only-of-type {\n",
       "        vertical-align: middle;\n",
       "    }\n",
       "\n",
       "    .dataframe tbody tr th {\n",
       "        vertical-align: top;\n",
       "    }\n",
       "\n",
       "    .dataframe thead th {\n",
       "        text-align: right;\n",
       "    }\n",
       "</style>\n",
       "<table border=\"1\" class=\"dataframe\">\n",
       "  <thead>\n",
       "    <tr style=\"text-align: right;\">\n",
       "      <th></th>\n",
       "      <th>certification</th>\n",
       "      <th>revenue</th>\n",
       "    </tr>\n",
       "  </thead>\n",
       "  <tbody>\n",
       "    <tr>\n",
       "      <th>0</th>\n",
       "      <td>G</td>\n",
       "      <td>1.283062e+08</td>\n",
       "    </tr>\n",
       "    <tr>\n",
       "      <th>1</th>\n",
       "      <td>NR</td>\n",
       "      <td>1.324439e+07</td>\n",
       "    </tr>\n",
       "    <tr>\n",
       "      <th>2</th>\n",
       "      <td>PG</td>\n",
       "      <td>1.177706e+08</td>\n",
       "    </tr>\n",
       "    <tr>\n",
       "      <th>3</th>\n",
       "      <td>PG-13</td>\n",
       "      <td>1.048614e+08</td>\n",
       "    </tr>\n",
       "    <tr>\n",
       "      <th>4</th>\n",
       "      <td>R</td>\n",
       "      <td>3.999746e+07</td>\n",
       "    </tr>\n",
       "  </tbody>\n",
       "</table>\n",
       "</div>"
      ],
      "text/plain": [
       "  certification       revenue\n",
       "0             G  1.283062e+08\n",
       "1            NR  1.324439e+07\n",
       "2            PG  1.177706e+08\n",
       "3         PG-13  1.048614e+08\n",
       "4             R  3.999746e+07"
      ]
     },
     "execution_count": 14,
     "metadata": {},
     "output_type": "execute_result"
    }
   ],
   "source": [
    "avg_rev = new_combined.groupby(['certification'])['revenue'].mean().reset_index()\n",
    "\n",
    "avg_rev"
   ]
  },
  {
   "cell_type": "markdown",
   "id": "6f5b6722",
   "metadata": {},
   "source": [
    "## What is the average budget per certification category?"
   ]
  },
  {
   "cell_type": "code",
   "execution_count": 15,
   "id": "830d77b8",
   "metadata": {},
   "outputs": [
    {
     "data": {
      "text/html": [
       "<div>\n",
       "<style scoped>\n",
       "    .dataframe tbody tr th:only-of-type {\n",
       "        vertical-align: middle;\n",
       "    }\n",
       "\n",
       "    .dataframe tbody tr th {\n",
       "        vertical-align: top;\n",
       "    }\n",
       "\n",
       "    .dataframe thead th {\n",
       "        text-align: right;\n",
       "    }\n",
       "</style>\n",
       "<table border=\"1\" class=\"dataframe\">\n",
       "  <thead>\n",
       "    <tr style=\"text-align: right;\">\n",
       "      <th></th>\n",
       "      <th>certification</th>\n",
       "      <th>budget</th>\n",
       "    </tr>\n",
       "  </thead>\n",
       "  <tbody>\n",
       "    <tr>\n",
       "      <th>0</th>\n",
       "      <td>G</td>\n",
       "      <td>4.237037e+07</td>\n",
       "    </tr>\n",
       "    <tr>\n",
       "      <th>1</th>\n",
       "      <td>NR</td>\n",
       "      <td>8.410004e+06</td>\n",
       "    </tr>\n",
       "    <tr>\n",
       "      <th>2</th>\n",
       "      <td>PG</td>\n",
       "      <td>4.739764e+07</td>\n",
       "    </tr>\n",
       "    <tr>\n",
       "      <th>3</th>\n",
       "      <td>PG-13</td>\n",
       "      <td>4.470788e+07</td>\n",
       "    </tr>\n",
       "    <tr>\n",
       "      <th>4</th>\n",
       "      <td>R</td>\n",
       "      <td>2.228588e+07</td>\n",
       "    </tr>\n",
       "  </tbody>\n",
       "</table>\n",
       "</div>"
      ],
      "text/plain": [
       "  certification        budget\n",
       "0             G  4.237037e+07\n",
       "1            NR  8.410004e+06\n",
       "2            PG  4.739764e+07\n",
       "3         PG-13  4.470788e+07\n",
       "4             R  2.228588e+07"
      ]
     },
     "execution_count": 15,
     "metadata": {},
     "output_type": "execute_result"
    }
   ],
   "source": [
    "avg_bud = new_combined.groupby('certification')['budget'].mean().reset_index()\n",
    "\n",
    "avg_bud"
   ]
  },
  {
   "cell_type": "code",
   "execution_count": null,
   "id": "979b8fc3",
   "metadata": {},
   "outputs": [],
   "source": []
  }
 ],
 "metadata": {
  "kernelspec": {
   "display_name": "Python (dojo-env)",
   "language": "python",
   "name": "dojo-env"
  },
  "language_info": {
   "codemirror_mode": {
    "name": "ipython",
    "version": 3
   },
   "file_extension": ".py",
   "mimetype": "text/x-python",
   "name": "python",
   "nbconvert_exporter": "python",
   "pygments_lexer": "ipython3",
   "version": "3.9.15"
  },
  "toc": {
   "base_numbering": 1,
   "nav_menu": {},
   "number_sections": false,
   "sideBar": true,
   "skip_h1_title": false,
   "title_cell": "Table of Contents",
   "title_sidebar": "Contents",
   "toc_cell": false,
   "toc_position": {},
   "toc_section_display": true,
   "toc_window_display": false
  }
 },
 "nbformat": 4,
 "nbformat_minor": 5
}
